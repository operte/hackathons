{
 "cells": [
  {
   "cell_type": "markdown",
   "metadata": {},
   "source": [
    "# The task\n",
    "\n",
    "The goal of this [Kaggle competition](https://www.kaggle.com/c/rpaa-hackathon-time-series/overview) is the Time Series Classification problem.\n",
    "\n",
    "## The data\n",
    "We use the data about customers of a bank. Over the past 10 months, we have extracted information about monthly customer's activity. For each month, we have extracted 10 numerical features representing these activities.\n",
    "\n",
    "## The target variable\n",
    "The target of this challenge is to predict, whether a given customer will buy a bank product, in case he is contacted by the bank, based on his/her activity over past 10 months.\n",
    "\n",
    "## Goal of the competition\n",
    "The goal of this competition is to build a model with highest performance (AUC) on the test customers. You can explore various Time Series methodology in order to beat the top score.\n",
    "\n",
    "\n",
    "# Load data\n",
    "\n",
    "The data will be loaded into numpy as a 3D matrix with the following dimensions:\n",
    "\n",
    "- Sample (Customer): Each sample consists of 10 last transactions of a single customers.\n",
    "- Time Steps (Transactions): Last 10 transactions of a customer, ordered by time. The last one is the newest one.\n",
    "- Features: Properties of each transaction. Each transaction has 10 features that are scaled from 0 to 1.\n",
    "\n",
    "The target y in this problem is binary, where 0 represents that a customer will not get another product if he is offered one, and 1 that he will."
   ]
  },
  {
   "cell_type": "code",
   "execution_count": 97,
   "metadata": {
    "execution": {
     "iopub.execute_input": "2021-01-29T12:08:59.722603Z",
     "iopub.status.busy": "2021-01-29T12:08:59.722364Z",
     "iopub.status.idle": "2021-01-29T12:08:59.726539Z",
     "shell.execute_reply": "2021-01-29T12:08:59.725749Z",
     "shell.execute_reply.started": "2021-01-29T12:08:59.722579Z"
    }
   },
   "outputs": [],
   "source": [
    "from functools import reduce\n",
    "import pandas as pd\n",
    "import numpy as np\n",
    "from sklearn.model_selection import cross_val_score, train_test_split\n",
    "from sklearn.metrics import roc_auc_score\n",
    "from sklearn.ensemble import RandomForestClassifier\n",
    "from keras.models import Sequential\n",
    "from keras.layers import Dense\n",
    "from keras.layers import LSTM\n",
    "import tensorflow as tf"
   ]
  },
  {
   "cell_type": "code",
   "execution_count": 102,
   "metadata": {
    "execution": {
     "iopub.execute_input": "2021-01-29T12:22:13.870536Z",
     "iopub.status.busy": "2021-01-29T12:22:13.870349Z",
     "iopub.status.idle": "2021-01-29T12:22:21.215875Z",
     "shell.execute_reply": "2021-01-29T12:22:21.215249Z",
     "shell.execute_reply.started": "2021-01-29T12:22:13.870518Z"
    }
   },
   "outputs": [],
   "source": [
    "number_of_features = 10\n",
    "\n",
    "def load_data_into_numpy(file_path, number_of_features):\n",
    "    loaded_2d_array = np.loadtxt(file_path)\n",
    "    # reshaping to get original matrice with original shape.\n",
    "    loaded_3d_array = loaded_2d_array.reshape(loaded_2d_array.shape[0], loaded_2d_array.shape[1] // number_of_features, number_of_features)\n",
    "    return loaded_3d_array\n",
    "\n",
    "X = load_data_into_numpy('X_train.csv', number_of_features)\n",
    "y = np.loadtxt('y_train.csv').astype(int)\n",
    "\n",
    "X_train, X_test, y_train, y_test = train_test_split(X, y, test_size=0.2, random_state=42)\n",
    "\n",
    "X_test_submission = load_data_into_numpy('X_test.csv', number_of_features)"
   ]
  },
  {
   "cell_type": "code",
   "execution_count": 8,
   "metadata": {
    "execution": {
     "iopub.execute_input": "2021-01-29T09:15:44.592876Z",
     "iopub.status.busy": "2021-01-29T09:15:44.592693Z",
     "iopub.status.idle": "2021-01-29T09:15:44.606195Z",
     "shell.execute_reply": "2021-01-29T09:15:44.605539Z",
     "shell.execute_reply.started": "2021-01-29T09:15:44.592858Z"
    }
   },
   "outputs": [
    {
     "data": {
      "text/html": [
       "<div>\n",
       "<style scoped>\n",
       "    .dataframe tbody tr th:only-of-type {\n",
       "        vertical-align: middle;\n",
       "    }\n",
       "\n",
       "    .dataframe tbody tr th {\n",
       "        vertical-align: top;\n",
       "    }\n",
       "\n",
       "    .dataframe thead th {\n",
       "        text-align: right;\n",
       "    }\n",
       "</style>\n",
       "<table border=\"1\" class=\"dataframe\">\n",
       "  <thead>\n",
       "    <tr style=\"text-align: right;\">\n",
       "      <th></th>\n",
       "      <th>f_0</th>\n",
       "      <th>f_1</th>\n",
       "      <th>f_2</th>\n",
       "      <th>f_3</th>\n",
       "      <th>f_4</th>\n",
       "      <th>f_5</th>\n",
       "      <th>f_6</th>\n",
       "      <th>f_7</th>\n",
       "      <th>f_8</th>\n",
       "      <th>f_9</th>\n",
       "    </tr>\n",
       "  </thead>\n",
       "  <tbody>\n",
       "    <tr>\n",
       "      <th>0</th>\n",
       "      <td>0.503082</td>\n",
       "      <td>0.504669</td>\n",
       "      <td>0.499191</td>\n",
       "      <td>0.501236</td>\n",
       "      <td>0.498047</td>\n",
       "      <td>0.504181</td>\n",
       "      <td>0.502396</td>\n",
       "      <td>0.495938</td>\n",
       "      <td>0.500259</td>\n",
       "      <td>0.500504</td>\n",
       "    </tr>\n",
       "    <tr>\n",
       "      <th>1</th>\n",
       "      <td>0.503113</td>\n",
       "      <td>0.503388</td>\n",
       "      <td>0.499680</td>\n",
       "      <td>0.500992</td>\n",
       "      <td>0.497269</td>\n",
       "      <td>0.505310</td>\n",
       "      <td>0.502121</td>\n",
       "      <td>0.494087</td>\n",
       "      <td>0.500061</td>\n",
       "      <td>0.501007</td>\n",
       "    </tr>\n",
       "    <tr>\n",
       "      <th>2</th>\n",
       "      <td>0.502670</td>\n",
       "      <td>0.501328</td>\n",
       "      <td>0.499283</td>\n",
       "      <td>0.500626</td>\n",
       "      <td>0.498550</td>\n",
       "      <td>0.506775</td>\n",
       "      <td>0.502304</td>\n",
       "      <td>0.496088</td>\n",
       "      <td>0.499863</td>\n",
       "      <td>0.501267</td>\n",
       "    </tr>\n",
       "    <tr>\n",
       "      <th>3</th>\n",
       "      <td>0.502808</td>\n",
       "      <td>0.499451</td>\n",
       "      <td>0.499542</td>\n",
       "      <td>0.500366</td>\n",
       "      <td>0.501068</td>\n",
       "      <td>0.506592</td>\n",
       "      <td>0.502365</td>\n",
       "      <td>0.495688</td>\n",
       "      <td>0.499542</td>\n",
       "      <td>0.501785</td>\n",
       "    </tr>\n",
       "    <tr>\n",
       "      <th>4</th>\n",
       "      <td>0.502716</td>\n",
       "      <td>0.497269</td>\n",
       "      <td>0.499939</td>\n",
       "      <td>0.499954</td>\n",
       "      <td>0.502365</td>\n",
       "      <td>0.497574</td>\n",
       "      <td>0.502319</td>\n",
       "      <td>0.494637</td>\n",
       "      <td>0.499557</td>\n",
       "      <td>0.502335</td>\n",
       "    </tr>\n",
       "    <tr>\n",
       "      <th>5</th>\n",
       "      <td>0.502762</td>\n",
       "      <td>0.499481</td>\n",
       "      <td>0.499512</td>\n",
       "      <td>0.499466</td>\n",
       "      <td>0.498932</td>\n",
       "      <td>0.500244</td>\n",
       "      <td>0.502731</td>\n",
       "      <td>0.492986</td>\n",
       "      <td>0.499496</td>\n",
       "      <td>0.502167</td>\n",
       "    </tr>\n",
       "    <tr>\n",
       "      <th>6</th>\n",
       "      <td>0.502029</td>\n",
       "      <td>0.499313</td>\n",
       "      <td>0.499924</td>\n",
       "      <td>0.499054</td>\n",
       "      <td>0.496490</td>\n",
       "      <td>0.502258</td>\n",
       "      <td>0.503143</td>\n",
       "      <td>0.489850</td>\n",
       "      <td>0.499390</td>\n",
       "      <td>0.502136</td>\n",
       "    </tr>\n",
       "    <tr>\n",
       "      <th>7</th>\n",
       "      <td>0.502106</td>\n",
       "      <td>0.498108</td>\n",
       "      <td>0.499985</td>\n",
       "      <td>0.499100</td>\n",
       "      <td>0.501556</td>\n",
       "      <td>0.502152</td>\n",
       "      <td>0.503998</td>\n",
       "      <td>0.489967</td>\n",
       "      <td>0.499603</td>\n",
       "      <td>0.502396</td>\n",
       "    </tr>\n",
       "    <tr>\n",
       "      <th>8</th>\n",
       "      <td>0.502121</td>\n",
       "      <td>0.500000</td>\n",
       "      <td>0.499634</td>\n",
       "      <td>0.498962</td>\n",
       "      <td>0.501984</td>\n",
       "      <td>0.503433</td>\n",
       "      <td>0.504364</td>\n",
       "      <td>0.490184</td>\n",
       "      <td>0.499557</td>\n",
       "      <td>0.502060</td>\n",
       "    </tr>\n",
       "    <tr>\n",
       "      <th>9</th>\n",
       "      <td>0.501892</td>\n",
       "      <td>0.496704</td>\n",
       "      <td>0.500000</td>\n",
       "      <td>0.498749</td>\n",
       "      <td>0.497482</td>\n",
       "      <td>0.497742</td>\n",
       "      <td>0.503876</td>\n",
       "      <td>0.493570</td>\n",
       "      <td>0.499710</td>\n",
       "      <td>0.501831</td>\n",
       "    </tr>\n",
       "  </tbody>\n",
       "</table>\n",
       "</div>"
      ],
      "text/plain": [
       "        f_0       f_1       f_2       f_3       f_4       f_5       f_6  \\\n",
       "0  0.503082  0.504669  0.499191  0.501236  0.498047  0.504181  0.502396   \n",
       "1  0.503113  0.503388  0.499680  0.500992  0.497269  0.505310  0.502121   \n",
       "2  0.502670  0.501328  0.499283  0.500626  0.498550  0.506775  0.502304   \n",
       "3  0.502808  0.499451  0.499542  0.500366  0.501068  0.506592  0.502365   \n",
       "4  0.502716  0.497269  0.499939  0.499954  0.502365  0.497574  0.502319   \n",
       "5  0.502762  0.499481  0.499512  0.499466  0.498932  0.500244  0.502731   \n",
       "6  0.502029  0.499313  0.499924  0.499054  0.496490  0.502258  0.503143   \n",
       "7  0.502106  0.498108  0.499985  0.499100  0.501556  0.502152  0.503998   \n",
       "8  0.502121  0.500000  0.499634  0.498962  0.501984  0.503433  0.504364   \n",
       "9  0.501892  0.496704  0.500000  0.498749  0.497482  0.497742  0.503876   \n",
       "\n",
       "        f_7       f_8       f_9  \n",
       "0  0.495938  0.500259  0.500504  \n",
       "1  0.494087  0.500061  0.501007  \n",
       "2  0.496088  0.499863  0.501267  \n",
       "3  0.495688  0.499542  0.501785  \n",
       "4  0.494637  0.499557  0.502335  \n",
       "5  0.492986  0.499496  0.502167  \n",
       "6  0.489850  0.499390  0.502136  \n",
       "7  0.489967  0.499603  0.502396  \n",
       "8  0.490184  0.499557  0.502060  \n",
       "9  0.493570  0.499710  0.501831  "
      ]
     },
     "metadata": {},
     "output_type": "display_data"
    }
   ],
   "source": [
    "display(pd.DataFrame(X_train[0, :, :], columns=[f'f_{num}' for num in range(10)]))"
   ]
  },
  {
   "cell_type": "markdown",
   "metadata": {},
   "source": [
    "The target in this problem is balanced"
   ]
  },
  {
   "cell_type": "code",
   "execution_count": 23,
   "metadata": {
    "execution": {
     "iopub.execute_input": "2021-01-29T09:32:21.529022Z",
     "iopub.status.busy": "2021-01-29T09:32:21.528783Z",
     "iopub.status.idle": "2021-01-29T09:32:21.534082Z",
     "shell.execute_reply": "2021-01-29T09:32:21.533495Z",
     "shell.execute_reply.started": "2021-01-29T09:32:21.528997Z"
    }
   },
   "outputs": [
    {
     "data": {
      "text/plain": [
       "0.49943416771944443"
      ]
     },
     "execution_count": 23,
     "metadata": {},
     "output_type": "execute_result"
    }
   ],
   "source": [
    "y_train.mean()"
   ]
  },
  {
   "cell_type": "markdown",
   "metadata": {},
   "source": [
    "# Baseline model RandomForestClassifier\n",
    "\n",
    "Let's build a baseline model, using a standard classifier, without taking into consideration the time dimension of the data.\n",
    "\n",
    "In this case, we will take average value of each feature over the last 10 transactions"
   ]
  },
  {
   "cell_type": "code",
   "execution_count": 61,
   "metadata": {
    "execution": {
     "iopub.execute_input": "2021-01-29T10:34:24.816377Z",
     "iopub.status.busy": "2021-01-29T10:34:24.816187Z",
     "iopub.status.idle": "2021-01-29T10:34:56.914139Z",
     "shell.execute_reply": "2021-01-29T10:34:56.913358Z",
     "shell.execute_reply.started": "2021-01-29T10:34:24.816359Z"
    }
   },
   "outputs": [
    {
     "name": "stdout",
     "output_type": "stream",
     "text": [
      "CV performance of Random Forest is 0.6442375\n",
      "Test performance of Random Forest is 0.6920054766131971\n"
     ]
    }
   ],
   "source": [
    "X_train_classifier = X_train.mean(axis=1)\n",
    "X_test_classifier = X_test.mean(axis=1)\n",
    "\n",
    "rf = RandomForestClassifier(max_depth=5, class_weight='balanced')\n",
    "auc_val_rf = np.mean(cross_val_score(rf, X_train_classifier, y_train))\n",
    "rf.fit(X_train_classifier, y_train)\n",
    "auc_test_rf = roc_auc_score(y_test, rf.predict_proba(X_test_classifier)[:,1])\n",
    "\n",
    "print(f'CV performance of Random Forest is {auc_val_rf}')\n",
    "print(f'Test performance of Random Forest is {auc_test_rf}')"
   ]
  },
  {
   "cell_type": "markdown",
   "metadata": {},
   "source": [
    "## Add summary features"
   ]
  },
  {
   "cell_type": "code",
   "execution_count": 93,
   "metadata": {
    "execution": {
     "iopub.execute_input": "2021-01-29T11:00:31.126004Z",
     "iopub.status.busy": "2021-01-29T11:00:31.125764Z",
     "iopub.status.idle": "2021-01-29T11:02:14.051178Z",
     "shell.execute_reply": "2021-01-29T11:02:14.050471Z",
     "shell.execute_reply.started": "2021-01-29T11:00:31.125979Z"
    }
   },
   "outputs": [
    {
     "name": "stdout",
     "output_type": "stream",
     "text": [
      "CV performance of Random Forest is 0.6789125\n",
      "Test performance of Random Forest is 0.7451180079796056\n"
     ]
    }
   ],
   "source": [
    "def gen_aggregate_feats(X):\n",
    "    operations = ['mean', 'std', 'max', 'min', 'ptp', 'prod']\n",
    "    feat_list = [getattr(X, op)(axis=ax) for op in operations for ax in [1,2]]\n",
    "            \n",
    "    return reduce(lambda a, b: np.append(a, b, axis=1), feat_list)\n",
    "\n",
    "X_train_classifier = gen_aggregate_feats(X_train)\n",
    "X_test_classifier = gen_aggregate_feats(X_test)\n",
    "\n",
    "rf = RandomForestClassifier(max_depth=5, class_weight='balanced')\n",
    "auc_val_rf = np.mean(cross_val_score(rf, X_train_classifier, y_train))\n",
    "rf.fit(X_train_classifier, y_train)\n",
    "auc_test_rf = roc_auc_score(y_test, rf.predict_proba(X_test_classifier)[:,1])\n",
    "\n",
    "print(f'CV performance of Random Forest is {auc_val_rf}')\n",
    "print(f'Test performance of Random Forest is {auc_test_rf}')"
   ]
  },
  {
   "cell_type": "code",
   "execution_count": 95,
   "metadata": {
    "execution": {
     "iopub.execute_input": "2021-01-29T11:03:19.649867Z",
     "iopub.status.busy": "2021-01-29T11:03:19.649681Z",
     "iopub.status.idle": "2021-01-29T11:03:45.225581Z",
     "shell.execute_reply": "2021-01-29T11:03:45.225033Z",
     "shell.execute_reply.started": "2021-01-29T11:03:19.649849Z"
    }
   },
   "outputs": [],
   "source": [
    "X_classifier = gen_aggregate_feats(X)\n",
    "rf.fit(X_classifier, y)\n",
    "X_test_submission_classifier_rf = gen_aggregate_feats(X_test_submission)\n",
    "y_test_submission_proba_rf = rf.predict_proba(X_test_submission_classifier_rf)[:, 1]"
   ]
  },
  {
   "cell_type": "markdown",
   "metadata": {},
   "source": [
    "## Use all raw rows and features per customer"
   ]
  },
  {
   "cell_type": "code",
   "execution_count": 63,
   "metadata": {
    "execution": {
     "iopub.execute_input": "2021-01-29T10:36:43.908112Z",
     "iopub.status.busy": "2021-01-29T10:36:43.907930Z",
     "iopub.status.idle": "2021-01-29T10:38:04.300823Z",
     "shell.execute_reply": "2021-01-29T10:38:04.300053Z",
     "shell.execute_reply.started": "2021-01-29T10:36:43.908095Z"
    }
   },
   "outputs": [
    {
     "name": "stdout",
     "output_type": "stream",
     "text": [
      "CV performance of Random Forest is 0.6512375\n",
      "Test performance of Random Forest is 0.7022538251227204\n"
     ]
    }
   ],
   "source": [
    "X_train_classifier = X_train.reshape((80000, 100))\n",
    "X_test_classifier = X_test.reshape((20000, 100))\n",
    "\n",
    "rf = RandomForestClassifier(max_depth=5, class_weight='balanced')\n",
    "auc_val_rf = np.mean(cross_val_score(rf, X_train_classifier, y_train))\n",
    "rf.fit(X_train_classifier, y_train)\n",
    "auc_test_rf = roc_auc_score(y_test, rf.predict_proba(X_test_classifier)[:,1])\n",
    "\n",
    "print(f'CV performance of Random Forest is {auc_val_rf}')\n",
    "print(f'Test performance of Random Forest is {auc_test_rf}')"
   ]
  },
  {
   "cell_type": "markdown",
   "metadata": {},
   "source": [
    "## Summary + raw feats"
   ]
  },
  {
   "cell_type": "code",
   "execution_count": 105,
   "metadata": {
    "execution": {
     "iopub.execute_input": "2021-01-29T12:23:33.483153Z",
     "iopub.status.busy": "2021-01-29T12:23:33.482875Z",
     "iopub.status.idle": "2021-01-29T12:25:41.560319Z",
     "shell.execute_reply": "2021-01-29T12:25:41.559845Z",
     "shell.execute_reply.started": "2021-01-29T12:23:33.483123Z"
    }
   },
   "outputs": [
    {
     "name": "stdout",
     "output_type": "stream",
     "text": [
      "CV performance of Random Forest is 0.6782625\n",
      "Test performance of Random Forest is 0.7455067966335072\n"
     ]
    }
   ],
   "source": [
    "X_train_classifier = np.append(gen_aggregate_feats(X_train), X_train.reshape((X_train.shape[0], 100)), axis=1)\n",
    "X_test_classifier = np.append(gen_aggregate_feats(X_test), X_test.reshape((X_test.shape[0], 100)), axis=1)\n",
    "\n",
    "rf = RandomForestClassifier(max_depth=5, class_weight='balanced')\n",
    "auc_val_rf = np.mean(cross_val_score(rf, X_train_classifier, y_train))\n",
    "rf.fit(X_train_classifier, y_train)\n",
    "auc_test_rf = roc_auc_score(y_test, rf.predict_proba(X_test_classifier)[:,1])\n",
    "\n",
    "print(f'CV performance of Random Forest is {auc_val_rf}')\n",
    "print(f'Test performance of Random Forest is {auc_test_rf}')"
   ]
  },
  {
   "cell_type": "markdown",
   "metadata": {},
   "source": [
    "## Summary of raw + diff"
   ]
  },
  {
   "cell_type": "code",
   "execution_count": 158,
   "metadata": {
    "execution": {
     "iopub.execute_input": "2021-01-29T13:05:21.490829Z",
     "iopub.status.busy": "2021-01-29T13:05:21.490592Z",
     "iopub.status.idle": "2021-01-29T13:05:24.417968Z",
     "shell.execute_reply": "2021-01-29T13:05:24.417323Z",
     "shell.execute_reply.started": "2021-01-29T13:05:21.490803Z"
    }
   },
   "outputs": [],
   "source": [
    "def gen_aggregate_feats(X):\n",
    "    operations = ['mean', 'std', 'max', 'min', 'ptp', 'prod', 'sum']\n",
    "    feat_list = [getattr(X, op)(axis=ax) for op in operations for ax in [1,2]]\n",
    "    \n",
    "    feat_list += [getattr(np.diff(X, axis=ax), op)(axis=ax) for op in operations for ax in [1,2]]\n",
    "            \n",
    "    return reduce(lambda a, b: np.append(a, b, axis=1), feat_list)\n",
    "\n",
    "X_train_classifier = gen_aggregate_feats(X_train)\n",
    "X_test_classifier = gen_aggregate_feats(X_test)"
   ]
  },
  {
   "cell_type": "code",
   "execution_count": 114,
   "metadata": {
    "execution": {
     "iopub.execute_input": "2021-01-29T12:33:37.141555Z",
     "iopub.status.busy": "2021-01-29T12:33:37.141308Z",
     "iopub.status.idle": "2021-01-29T12:36:01.193883Z",
     "shell.execute_reply": "2021-01-29T12:36:01.193394Z",
     "shell.execute_reply.started": "2021-01-29T12:33:37.141530Z"
    }
   },
   "outputs": [
    {
     "name": "stdout",
     "output_type": "stream",
     "text": [
      "CV performance of Random Forest is 0.710875\n",
      "Test performance of Random Forest is 0.7897193365244342\n"
     ]
    }
   ],
   "source": [
    "rf = RandomForestClassifier(max_depth=5, class_weight='balanced')\n",
    "auc_val_rf = np.mean(cross_val_score(rf, X_train_classifier, y_train))\n",
    "rf.fit(X_train_classifier, y_train)\n",
    "auc_test_rf = roc_auc_score(y_test, rf.predict_proba(X_test_classifier)[:,1])\n",
    "\n",
    "print(f'CV performance of Random Forest is {auc_val_rf}')\n",
    "print(f'Test performance of Random Forest is {auc_test_rf}')"
   ]
  },
  {
   "cell_type": "code",
   "execution_count": 115,
   "metadata": {
    "execution": {
     "iopub.execute_input": "2021-01-29T12:36:35.129298Z",
     "iopub.status.busy": "2021-01-29T12:36:35.129056Z",
     "iopub.status.idle": "2021-01-29T12:37:14.349198Z",
     "shell.execute_reply": "2021-01-29T12:37:14.348555Z",
     "shell.execute_reply.started": "2021-01-29T12:36:35.129273Z"
    }
   },
   "outputs": [],
   "source": [
    "X_classifier = gen_aggregate_feats(X)\n",
    "rf.fit(X_classifier, y)\n",
    "X_test_submission_classifier_rf = gen_aggregate_feats(X_test_submission)\n",
    "y_test_submission_proba_rf = rf.predict_proba(X_test_submission_classifier_rf)[:, 1]"
   ]
  },
  {
   "cell_type": "markdown",
   "metadata": {},
   "source": [
    "# Build baseline model LSTM\n",
    "\n",
    "Now we can take into consideration the time dimension of the data"
   ]
  },
  {
   "cell_type": "code",
   "execution_count": 16,
   "metadata": {
    "collapsed": true,
    "execution": {
     "iopub.execute_input": "2021-01-29T09:22:51.272487Z",
     "iopub.status.busy": "2021-01-29T09:22:51.272213Z",
     "iopub.status.idle": "2021-01-29T09:26:25.415721Z",
     "shell.execute_reply": "2021-01-29T09:26:25.415146Z",
     "shell.execute_reply.started": "2021-01-29T09:22:51.272458Z"
    },
    "jupyter": {
     "outputs_hidden": true
    }
   },
   "outputs": [
    {
     "name": "stdout",
     "output_type": "stream",
     "text": [
      "Epoch 1/100\n",
      "900/900 - 4s - loss: 0.6934 - auc: 0.4990 - val_loss: 0.6931 - val_auc: 0.5244\n",
      "Epoch 2/100\n",
      "900/900 - 2s - loss: 0.6930 - auc: 0.5038 - val_loss: 0.6926 - val_auc: 0.5143\n",
      "Epoch 3/100\n",
      "900/900 - 2s - loss: 0.6913 - auc: 0.5116 - val_loss: 0.6932 - val_auc: 0.4950\n",
      "Epoch 4/100\n",
      "900/900 - 2s - loss: 0.6827 - auc: 0.5399 - val_loss: 0.6854 - val_auc: 0.5177\n",
      "Epoch 5/100\n",
      "900/900 - 2s - loss: 0.6682 - auc: 0.5801 - val_loss: 0.6648 - val_auc: 0.5924\n",
      "Epoch 6/100\n",
      "900/900 - 2s - loss: 0.6647 - auc: 0.5900 - val_loss: 0.6649 - val_auc: 0.5898\n",
      "Epoch 7/100\n",
      "900/900 - 2s - loss: 0.6643 - auc: 0.5900 - val_loss: 0.6622 - val_auc: 0.5932\n",
      "Epoch 8/100\n",
      "900/900 - 2s - loss: 0.6631 - auc: 0.5939 - val_loss: 0.6726 - val_auc: 0.5718\n",
      "Epoch 9/100\n",
      "900/900 - 2s - loss: 0.6615 - auc: 0.5984 - val_loss: 0.6618 - val_auc: 0.5885\n",
      "Epoch 10/100\n",
      "900/900 - 2s - loss: 0.6585 - auc: 0.6066 - val_loss: 0.6612 - val_auc: 0.5806\n",
      "Epoch 11/100\n",
      "900/900 - 2s - loss: 0.6531 - auc: 0.6192 - val_loss: 0.6516 - val_auc: 0.6221\n",
      "Epoch 12/100\n",
      "900/900 - 2s - loss: 0.6512 - auc: 0.6252 - val_loss: 0.6508 - val_auc: 0.6211\n",
      "Epoch 13/100\n",
      "900/900 - 2s - loss: 0.6468 - auc: 0.6360 - val_loss: 0.6500 - val_auc: 0.6247\n",
      "Epoch 14/100\n",
      "900/900 - 2s - loss: 0.6450 - auc: 0.6409 - val_loss: 0.6412 - val_auc: 0.6522\n",
      "Epoch 15/100\n",
      "900/900 - 2s - loss: 0.6461 - auc: 0.6371 - val_loss: 0.6475 - val_auc: 0.6299\n",
      "Epoch 16/100\n",
      "900/900 - 2s - loss: 0.6461 - auc: 0.6366 - val_loss: 0.6405 - val_auc: 0.6543\n",
      "Epoch 17/100\n",
      "900/900 - 2s - loss: 0.6440 - auc: 0.6418 - val_loss: 0.6516 - val_auc: 0.6238\n",
      "Epoch 18/100\n",
      "900/900 - 2s - loss: 0.6434 - auc: 0.6426 - val_loss: 0.6396 - val_auc: 0.6551\n",
      "Epoch 19/100\n",
      "900/900 - 2s - loss: 0.6441 - auc: 0.6405 - val_loss: 0.6450 - val_auc: 0.6439\n",
      "Epoch 20/100\n",
      "900/900 - 2s - loss: 0.6447 - auc: 0.6393 - val_loss: 0.6404 - val_auc: 0.6541\n",
      "Epoch 21/100\n",
      "900/900 - 2s - loss: 0.6423 - auc: 0.6450 - val_loss: 0.6407 - val_auc: 0.6539\n",
      "Epoch 22/100\n",
      "900/900 - 2s - loss: 0.6423 - auc: 0.6441 - val_loss: 0.6395 - val_auc: 0.6563\n",
      "Epoch 23/100\n",
      "900/900 - 2s - loss: 0.6409 - auc: 0.6486 - val_loss: 0.6348 - val_auc: 0.6682\n",
      "Epoch 24/100\n",
      "900/900 - 2s - loss: 0.6411 - auc: 0.6471 - val_loss: 0.6357 - val_auc: 0.6688\n",
      "Epoch 25/100\n",
      "900/900 - 2s - loss: 0.6400 - auc: 0.6502 - val_loss: 0.6339 - val_auc: 0.6689\n",
      "Epoch 26/100\n",
      "900/900 - 2s - loss: 0.6387 - auc: 0.6525 - val_loss: 0.6345 - val_auc: 0.6676\n",
      "Epoch 27/100\n",
      "900/900 - 2s - loss: 0.6393 - auc: 0.6510 - val_loss: 0.6373 - val_auc: 0.6567\n",
      "Epoch 28/100\n",
      "900/900 - 2s - loss: 0.6371 - auc: 0.6566 - val_loss: 0.6396 - val_auc: 0.6504\n",
      "Epoch 29/100\n",
      "900/900 - 2s - loss: 0.6363 - auc: 0.6585 - val_loss: 0.6297 - val_auc: 0.6776\n",
      "Epoch 30/100\n",
      "900/900 - 2s - loss: 0.6351 - auc: 0.6622 - val_loss: 0.6309 - val_auc: 0.6753\n",
      "Epoch 31/100\n",
      "900/900 - 2s - loss: 0.6346 - auc: 0.6632 - val_loss: 0.6362 - val_auc: 0.6592\n",
      "Epoch 32/100\n",
      "900/900 - 2s - loss: 0.6343 - auc: 0.6640 - val_loss: 0.6338 - val_auc: 0.6669\n",
      "Epoch 33/100\n",
      "900/900 - 2s - loss: 0.6339 - auc: 0.6650 - val_loss: 0.6421 - val_auc: 0.6446\n",
      "Epoch 34/100\n",
      "900/900 - 2s - loss: 0.6339 - auc: 0.6640 - val_loss: 0.6332 - val_auc: 0.6646\n",
      "Epoch 35/100\n",
      "900/900 - 2s - loss: 0.6327 - auc: 0.6682 - val_loss: 0.6347 - val_auc: 0.6664\n",
      "Epoch 36/100\n",
      "900/900 - 2s - loss: 0.6335 - auc: 0.6659 - val_loss: 0.6339 - val_auc: 0.6621\n",
      "Epoch 37/100\n",
      "900/900 - 2s - loss: 0.6338 - auc: 0.6640 - val_loss: 0.6301 - val_auc: 0.6758\n",
      "Epoch 38/100\n",
      "900/900 - 2s - loss: 0.6329 - auc: 0.6672 - val_loss: 0.6276 - val_auc: 0.6806\n",
      "Epoch 39/100\n",
      "900/900 - 2s - loss: 0.6321 - auc: 0.6690 - val_loss: 0.6260 - val_auc: 0.6824\n",
      "Epoch 40/100\n",
      "900/900 - 2s - loss: 0.6314 - auc: 0.6696 - val_loss: 0.6306 - val_auc: 0.6763\n",
      "Epoch 41/100\n",
      "900/900 - 2s - loss: 0.6315 - auc: 0.6698 - val_loss: 0.6342 - val_auc: 0.6683\n",
      "Epoch 42/100\n",
      "900/900 - 2s - loss: 0.6319 - auc: 0.6693 - val_loss: 0.6318 - val_auc: 0.6676\n",
      "Epoch 43/100\n",
      "900/900 - 2s - loss: 0.6321 - auc: 0.6693 - val_loss: 0.6273 - val_auc: 0.6794\n",
      "Epoch 44/100\n",
      "900/900 - 2s - loss: 0.6315 - auc: 0.6702 - val_loss: 0.6274 - val_auc: 0.6806\n",
      "Epoch 45/100\n",
      "900/900 - 2s - loss: 0.6296 - auc: 0.6738 - val_loss: 0.6310 - val_auc: 0.6777\n",
      "Epoch 46/100\n",
      "900/900 - 2s - loss: 0.6309 - auc: 0.6708 - val_loss: 0.6294 - val_auc: 0.6739\n",
      "Epoch 47/100\n",
      "900/900 - 2s - loss: 0.6309 - auc: 0.6707 - val_loss: 0.6306 - val_auc: 0.6722\n",
      "Epoch 48/100\n",
      "900/900 - 2s - loss: 0.6299 - auc: 0.6726 - val_loss: 0.6282 - val_auc: 0.6790\n",
      "Epoch 49/100\n",
      "900/900 - 3s - loss: 0.6304 - auc: 0.6717 - val_loss: 0.6388 - val_auc: 0.6556\n",
      "Epoch 50/100\n",
      "900/900 - 3s - loss: 0.6304 - auc: 0.6716 - val_loss: 0.6297 - val_auc: 0.6706\n",
      "Epoch 51/100\n",
      "900/900 - 3s - loss: 0.6295 - auc: 0.6729 - val_loss: 0.6295 - val_auc: 0.6747\n",
      "Epoch 52/100\n",
      "900/900 - 2s - loss: 0.6301 - auc: 0.6728 - val_loss: 0.6367 - val_auc: 0.6581\n",
      "Epoch 53/100\n",
      "900/900 - 3s - loss: 0.6303 - auc: 0.6716 - val_loss: 0.6298 - val_auc: 0.6757\n",
      "Epoch 54/100\n",
      "900/900 - 2s - loss: 0.6285 - auc: 0.6748 - val_loss: 0.6293 - val_auc: 0.6782\n",
      "Epoch 55/100\n",
      "900/900 - 2s - loss: 0.6295 - auc: 0.6731 - val_loss: 0.6346 - val_auc: 0.6594\n",
      "Epoch 56/100\n",
      "900/900 - 2s - loss: 0.6304 - auc: 0.6716 - val_loss: 0.6267 - val_auc: 0.6788\n",
      "Epoch 57/100\n",
      "900/900 - 2s - loss: 0.6295 - auc: 0.6728 - val_loss: 0.6299 - val_auc: 0.6759\n",
      "Epoch 58/100\n",
      "900/900 - 2s - loss: 0.6289 - auc: 0.6745 - val_loss: 0.6249 - val_auc: 0.6838\n",
      "Epoch 59/100\n",
      "900/900 - 2s - loss: 0.6299 - auc: 0.6727 - val_loss: 0.6268 - val_auc: 0.6779\n",
      "Epoch 60/100\n",
      "900/900 - 2s - loss: 0.6301 - auc: 0.6725 - val_loss: 0.6271 - val_auc: 0.6788\n",
      "Epoch 61/100\n",
      "900/900 - 2s - loss: 0.6285 - auc: 0.6752 - val_loss: 0.6319 - val_auc: 0.6673\n",
      "Epoch 62/100\n",
      "900/900 - 2s - loss: 0.6292 - auc: 0.6741 - val_loss: 0.6271 - val_auc: 0.6821\n",
      "Epoch 63/100\n",
      "900/900 - 2s - loss: 0.6280 - auc: 0.6758 - val_loss: 0.6306 - val_auc: 0.6662\n",
      "Epoch 64/100\n",
      "900/900 - 2s - loss: 0.6270 - auc: 0.6777 - val_loss: 0.6280 - val_auc: 0.6770\n",
      "Epoch 65/100\n",
      "900/900 - 2s - loss: 0.6273 - auc: 0.6766 - val_loss: 0.6414 - val_auc: 0.6411\n",
      "Epoch 66/100\n",
      "900/900 - 2s - loss: 0.6272 - auc: 0.6768 - val_loss: 0.6255 - val_auc: 0.6796\n",
      "Epoch 67/100\n",
      "900/900 - 2s - loss: 0.6277 - auc: 0.6755 - val_loss: 0.6248 - val_auc: 0.6829\n",
      "Epoch 68/100\n",
      "900/900 - 2s - loss: 0.6262 - auc: 0.6789 - val_loss: 0.6251 - val_auc: 0.6835\n",
      "Epoch 69/100\n",
      "900/900 - 2s - loss: 0.6265 - auc: 0.6781 - val_loss: 0.6291 - val_auc: 0.6715\n",
      "Epoch 70/100\n",
      "900/900 - 2s - loss: 0.6260 - auc: 0.6788 - val_loss: 0.6240 - val_auc: 0.6862\n",
      "Epoch 71/100\n",
      "900/900 - 2s - loss: 0.6257 - auc: 0.6802 - val_loss: 0.6276 - val_auc: 0.6735\n",
      "Epoch 72/100\n",
      "900/900 - 2s - loss: 0.6267 - auc: 0.6781 - val_loss: 0.6221 - val_auc: 0.6889\n",
      "Epoch 73/100\n",
      "900/900 - 2s - loss: 0.6253 - auc: 0.6800 - val_loss: 0.6254 - val_auc: 0.6799\n",
      "Epoch 74/100\n",
      "900/900 - 2s - loss: 0.6243 - auc: 0.6820 - val_loss: 0.6208 - val_auc: 0.6880\n",
      "Epoch 75/100\n",
      "900/900 - 2s - loss: 0.6241 - auc: 0.6817 - val_loss: 0.6215 - val_auc: 0.6878\n",
      "Epoch 76/100\n",
      "900/900 - 2s - loss: 0.6254 - auc: 0.6799 - val_loss: 0.6390 - val_auc: 0.6544\n",
      "Epoch 77/100\n",
      "900/900 - 2s - loss: 0.6243 - auc: 0.6816 - val_loss: 0.6232 - val_auc: 0.6851\n",
      "Epoch 78/100\n",
      "900/900 - 2s - loss: 0.6250 - auc: 0.6806 - val_loss: 0.6221 - val_auc: 0.6887\n",
      "Epoch 79/100\n",
      "900/900 - 2s - loss: 0.6241 - auc: 0.6819 - val_loss: 0.6208 - val_auc: 0.6902\n",
      "Epoch 80/100\n",
      "900/900 - 2s - loss: 0.6255 - auc: 0.6790 - val_loss: 0.6279 - val_auc: 0.6726\n",
      "Epoch 81/100\n",
      "900/900 - 2s - loss: 0.6243 - auc: 0.6818 - val_loss: 0.6181 - val_auc: 0.6944\n",
      "Epoch 82/100\n",
      "900/900 - 2s - loss: 0.6247 - auc: 0.6814 - val_loss: 0.6328 - val_auc: 0.6634\n",
      "Epoch 83/100\n",
      "900/900 - 2s - loss: 0.6249 - auc: 0.6806 - val_loss: 0.6229 - val_auc: 0.6864\n",
      "Epoch 84/100\n",
      "900/900 - 2s - loss: 0.6239 - auc: 0.6824 - val_loss: 0.6193 - val_auc: 0.6914\n",
      "Epoch 85/100\n",
      "900/900 - 2s - loss: 0.6222 - auc: 0.6856 - val_loss: 0.6216 - val_auc: 0.6875\n",
      "Epoch 86/100\n",
      "900/900 - 2s - loss: 0.6218 - auc: 0.6860 - val_loss: 0.6218 - val_auc: 0.6866\n",
      "Epoch 87/100\n",
      "900/900 - 2s - loss: 0.6227 - auc: 0.6847 - val_loss: 0.6176 - val_auc: 0.6941\n",
      "Epoch 88/100\n",
      "900/900 - 2s - loss: 0.6225 - auc: 0.6848 - val_loss: 0.6225 - val_auc: 0.6872\n",
      "Epoch 89/100\n",
      "900/900 - 2s - loss: 0.6217 - auc: 0.6868 - val_loss: 0.6170 - val_auc: 0.6968\n",
      "Epoch 90/100\n",
      "900/900 - 2s - loss: 0.6217 - auc: 0.6862 - val_loss: 0.6185 - val_auc: 0.6922\n",
      "Epoch 91/100\n",
      "900/900 - 2s - loss: 0.6215 - auc: 0.6870 - val_loss: 0.6276 - val_auc: 0.6739\n",
      "Epoch 92/100\n",
      "900/900 - 2s - loss: 0.6217 - auc: 0.6862 - val_loss: 0.6211 - val_auc: 0.6893\n",
      "Epoch 93/100\n",
      "900/900 - 2s - loss: 0.6220 - auc: 0.6863 - val_loss: 0.6220 - val_auc: 0.6853\n",
      "Epoch 94/100\n",
      "900/900 - 2s - loss: 0.6230 - auc: 0.6842 - val_loss: 0.6170 - val_auc: 0.6948\n",
      "Epoch 95/100\n",
      "900/900 - 2s - loss: 0.6205 - auc: 0.6891 - val_loss: 0.6181 - val_auc: 0.6930\n",
      "Epoch 96/100\n",
      "900/900 - 2s - loss: 0.6210 - auc: 0.6881 - val_loss: 0.6223 - val_auc: 0.6851\n",
      "Epoch 97/100\n",
      "900/900 - 2s - loss: 0.6211 - auc: 0.6877 - val_loss: 0.6177 - val_auc: 0.6951\n",
      "Epoch 98/100\n",
      "900/900 - 2s - loss: 0.6211 - auc: 0.6872 - val_loss: 0.6193 - val_auc: 0.6905\n",
      "Epoch 99/100\n",
      "900/900 - 2s - loss: 0.6212 - auc: 0.6871 - val_loss: 0.6189 - val_auc: 0.6909\n",
      "Epoch 100/100\n",
      "900/900 - 2s - loss: 0.6211 - auc: 0.6874 - val_loss: 0.6251 - val_auc: 0.6802\n"
     ]
    },
    {
     "data": {
      "text/plain": [
       "<tensorflow.python.keras.callbacks.History at 0x7f909cb8da00>"
      ]
     },
     "execution_count": 16,
     "metadata": {},
     "output_type": "execute_result"
    }
   ],
   "source": [
    "y_encoded = np.vstack([1-y_train, y_train]).T\n",
    "\n",
    "lstm = Sequential()\n",
    "lstm.add(LSTM(32, input_shape=(10, 10)))\n",
    "lstm.add(Dense(2, activation = \"softmax\"))\n",
    "lstm.compile(loss='binary_crossentropy', optimizer='adam', metrics=[tf.keras.metrics.AUC()])\n",
    "lstm.fit(X_train, y_encoded, epochs=100, batch_size=100, validation_split=0.1, verbose=2)\n"
   ]
  },
  {
   "cell_type": "code",
   "execution_count": 17,
   "metadata": {
    "execution": {
     "iopub.execute_input": "2021-01-29T09:27:38.537837Z",
     "iopub.status.busy": "2021-01-29T09:27:38.537613Z",
     "iopub.status.idle": "2021-01-29T09:27:39.024700Z",
     "shell.execute_reply": "2021-01-29T09:27:39.024243Z",
     "shell.execute_reply.started": "2021-01-29T09:27:38.537815Z"
    }
   },
   "outputs": [
    {
     "name": "stderr",
     "output_type": "stream",
     "text": [
      "/Users/lo87ru/conda/lib/python3.8/site-packages/tensorflow/python/keras/engine/sequential.py:425: UserWarning: `model.predict_proba()` is deprecated and will be removed after 2021-01-01. Please use `model.predict()` instead.\n",
      "  warnings.warn('`model.predict_proba()` is deprecated and '\n"
     ]
    }
   ],
   "source": [
    "y_test_proba_lstm = lstm.predict_proba(X_test)[:, 1]"
   ]
  },
  {
   "cell_type": "markdown",
   "metadata": {},
   "source": [
    "# Prepare submission files"
   ]
  },
  {
   "cell_type": "code",
   "execution_count": 84,
   "metadata": {},
   "outputs": [],
   "source": [
    "submission = pd.DataFrame({'y_pred': y_test_proba_lstm})\n",
    "submission.index.name = 'id'\n",
    "submission.to_csv('lstm_submission.csv')\n",
    "\n",
    "submission = pd.DataFrame({'y_pred': y_test_proba_rf})\n",
    "submission.index.name = 'id'\n",
    "submission.to_csv('rf_submission.csv')"
   ]
  },
  {
   "cell_type": "code",
   "execution_count": 59,
   "metadata": {
    "execution": {
     "iopub.execute_input": "2021-01-29T10:28:01.494605Z",
     "iopub.status.busy": "2021-01-29T10:28:01.494396Z",
     "iopub.status.idle": "2021-01-29T10:28:01.549510Z",
     "shell.execute_reply": "2021-01-29T10:28:01.549040Z",
     "shell.execute_reply.started": "2021-01-29T10:28:01.494583Z"
    }
   },
   "outputs": [],
   "source": [
    "X_test_submission_classifier_rf = X_test_submission.reshape((X_test_submission.shape[0], 100))\n",
    "y_test_submission_proba_rf = rf.predict_proba(X_test_submission_classifier_rf)[:, 1]"
   ]
  },
  {
   "cell_type": "code",
   "execution_count": 116,
   "metadata": {
    "execution": {
     "iopub.execute_input": "2021-01-29T12:38:09.482558Z",
     "iopub.status.busy": "2021-01-29T12:38:09.482369Z",
     "iopub.status.idle": "2021-01-29T12:38:09.514422Z",
     "shell.execute_reply": "2021-01-29T12:38:09.513736Z",
     "shell.execute_reply.started": "2021-01-29T12:38:09.482539Z"
    }
   },
   "outputs": [],
   "source": [
    "submission = pd.DataFrame({'y_pred': y_test_submission_proba_rf})\n",
    "submission.index.name = 'id'\n",
    "submission.to_csv('rf_submission.csv')"
   ]
  },
  {
   "cell_type": "markdown",
   "metadata": {},
   "source": [
    "# Ideas for improvement"
   ]
  },
  {
   "cell_type": "markdown",
   "metadata": {},
   "source": [
    "\n",
    "- LSTM improvements e.g. Early stopping, Dropout, more layers\n",
    "- Hyperparameters optimization\n",
    "- Other time series models to try:\n",
    "    - Hidden Markov models\n",
    "    - Conditional random field\n",
    "    - GRU\n",
    "    - Dilated Recurrent Neural Networks\n",
    "    - CNN\n",
    "    - Fully Convolutional Network\n",
    "    - LSTM + CNN\n",
    "    - Rotation Forest / Proximity Forest\n",
    "- Packages to check:\n",
    "    - [neural_prophet](https://github.com/ourownstory/neural_prophet)\n",
    "    - [pyts](https://johannfaouzi.github.io/pyts/)\n",
    "    - [cesium](https://github.com/cesium-ml/cesium)\n",
    "    \n",
    "Sources:\n",
    "https://dzlab.github.io/timeseries/2018/11/24/timeseries-classification/"
   ]
  },
  {
   "cell_type": "code",
   "execution_count": null,
   "metadata": {},
   "outputs": [],
   "source": []
  }
 ],
 "metadata": {
  "kernelspec": {
   "display_name": "Python 3",
   "language": "python",
   "name": "python3"
  },
  "language_info": {
   "codemirror_mode": {
    "name": "ipython",
    "version": 3
   },
   "file_extension": ".py",
   "mimetype": "text/x-python",
   "name": "python",
   "nbconvert_exporter": "python",
   "pygments_lexer": "ipython3",
   "version": "3.8.3"
  }
 },
 "nbformat": 4,
 "nbformat_minor": 4
}
